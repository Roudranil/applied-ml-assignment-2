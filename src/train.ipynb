{
 "cells": [
  {
   "cell_type": "markdown",
   "metadata": {},
   "source": [
    "# Imports\n"
   ]
  },
  {
   "cell_type": "code",
   "execution_count": 1,
   "metadata": {},
   "outputs": [],
   "source": [
    "import pandas as pd\n",
    "import scipy\n",
    "from sklearn.feature_extraction.text import TfidfVectorizer\n",
    "\n",
    "# models\n",
    "from sklearn.linear_model import LogisticRegression\n",
    "from sklearn.tree import DecisionTreeClassifier\n",
    "from xgboost import XGBClassifier\n",
    "\n",
    "# from catboost import CatBoostClassifier\n",
    "# from lightgbm import LGBMClassifier\n",
    "\n",
    "from sklearn.metrics import average_precision_score, accuracy_score\n",
    "\n",
    "import mlflow\n",
    "from mlflow.tracking import MlflowClient\n",
    "\n",
    "import json\n",
    "import warnings\n",
    "\n",
    "warnings.simplefilter(\"ignore\")"
   ]
  },
  {
   "cell_type": "markdown",
   "metadata": {},
   "source": [
    "# Loading the dataset\n"
   ]
  },
  {
   "cell_type": "code",
   "execution_count": 2,
   "metadata": {},
   "outputs": [],
   "source": [
    "def load_dataset(train_path, val_path, test_path):\n",
    "    train = pd.read_csv(train_path)\n",
    "    val = pd.read_csv(val_path)\n",
    "    test = pd.read_csv(test_path)\n",
    "\n",
    "    vectoriser = TfidfVectorizer()\n",
    "\n",
    "    X_train = scipy.sparse.hstack(\n",
    "        [\n",
    "            vectoriser.fit_transform(train[\"text\"]),\n",
    "            train[\"is_reply\"].values.reshape(-1, 1),\n",
    "        ]\n",
    "    )\n",
    "    y_train = train[\"spam\"].values\n",
    "\n",
    "    X_val = scipy.sparse.hstack(\n",
    "        [vectoriser.transform(val[\"text\"]), val[\"is_reply\"].values.reshape(-1, 1)]\n",
    "    )\n",
    "    y_val = val[\"spam\"].values\n",
    "\n",
    "    X_test = scipy.sparse.hstack(\n",
    "        [vectoriser.transform(test[\"text\"]), test[\"is_reply\"].values.reshape(-1, 1)]\n",
    "    )\n",
    "    y_test = test[\"spam\"].values\n",
    "\n",
    "    return X_train, X_val, X_test, y_train, y_val, y_test"
   ]
  },
  {
   "cell_type": "code",
   "execution_count": 3,
   "metadata": {},
   "outputs": [],
   "source": [
    "train_path = \"../data/train.csv\"\n",
    "val_path = \"../data/validation.csv\"\n",
    "test_path = \"../data/test.csv\"\n",
    "\n",
    "X_train, X_val, X_test, y_train, y_val, y_test = load_dataset(\n",
    "    train_path, val_path, test_path\n",
    ")"
   ]
  },
  {
   "cell_type": "markdown",
   "metadata": {},
   "source": [
    "# Tracking experiment run with mlflow\n"
   ]
  },
  {
   "cell_type": "code",
   "execution_count": 4,
   "metadata": {},
   "outputs": [],
   "source": [
    "model_dict = {\n",
    "    \"logistic_regression\": {\n",
    "        \"model\": LogisticRegression,\n",
    "        \"params\": {\n",
    "            \"random_state\": 42,\n",
    "            \"penalty\": \"elasticnet\",\n",
    "            \"solver\": \"saga\",\n",
    "            \"C\": 0.9140473524721335,\n",
    "            \"l1_ratio\": 0.0028218514946617293,\n",
    "        },\n",
    "    },\n",
    "    \"decision_tree\": {\"model\": DecisionTreeClassifier, \"params\": {}},\n",
    "    \"xgboost\": {\n",
    "        \"model\": XGBClassifier,\n",
    "        \"params\": {\n",
    "            \"max_depth\": 5,\n",
    "            \"learning_rate\": 0.09806024570665134,\n",
    "            \"subsample\": 0.5856590010393802,\n",
    "        },\n",
    "    },\n",
    "}\n",
    "metrics = {\"accuracy\": accuracy_score, \"aucpr\": average_precision_score}"
   ]
  },
  {
   "cell_type": "code",
   "execution_count": 6,
   "metadata": {},
   "outputs": [],
   "source": [
    "def track_model(\n",
    "    model_name,\n",
    "    X_train,\n",
    "    y_train,\n",
    "    X_val,\n",
    "    y_val,\n",
    "    params={},\n",
    "    run_name=None,\n",
    "    user_params=True,\n",
    "):\n",
    "    if not run_name:\n",
    "        run_name = model_name\n",
    "    with mlflow.start_run(run_name=model_name):\n",
    "        print(f\"Starting run {run_name}\")\n",
    "\n",
    "        # loading the model from model dict\n",
    "        model_config = model_dict.get(model_name, \"error\")\n",
    "        if model_config == \"error\":\n",
    "            raise ValueError(\"Model name not recognised.\")\n",
    "        print(f\"=>  Model name: {model_name}\")\n",
    "\n",
    "        # loading model params\n",
    "        model_params = params if user_params else model_config[\"params\"]\n",
    "        print(f\"=>  Model params:\\n{json.dumps(model_params, indent=4)}\")\n",
    "\n",
    "        # fitting model and evaluating\n",
    "        model = model_config[\"model\"](**model_params)\n",
    "        model.fit(X_train, y_train)\n",
    "        y_pred = model.predict(X_val)\n",
    "        model_results = {\n",
    "            metric_name: metric(y_val, y_pred)\n",
    "            for metric_name, metric in metrics.items()\n",
    "        }\n",
    "        print(f\"=>  Model results:\\n{json.dumps(model_results, indent=4)}\")\n",
    "\n",
    "        # Logging metrics\n",
    "        mlflow.log_params(model_params)\n",
    "        for metric_name, metric_value in model_results.items():\n",
    "            mlflow.log_metric(f\"{model_name}_{metric_name}\", metric_value)\n",
    "\n",
    "        # logging model\n",
    "        client = MlflowClient()\n",
    "        mlflow.sklearn.log_model(model, model_name)\n",
    "\n",
    "        current_run_id = mlflow.active_run().info.run_id\n",
    "        model_uri = f\"runs:/{model_name}/{current_run_id}\"\n",
    "        try:\n",
    "            client.create_registered_model(model_name)\n",
    "        except Exception as e:\n",
    "            print(f\"Model {model_name} already exists in the registry.\")\n",
    "        model_details = client.create_model_version(\n",
    "            model_name, model_uri, current_run_id\n",
    "        )\n",
    "        print(\n",
    "            f\"=>  {model_name} version {model_details.version} has been logged to registry.\"\n",
    "        )"
   ]
  },
  {
   "cell_type": "code",
   "execution_count": 7,
   "metadata": {},
   "outputs": [
    {
     "name": "stdout",
     "output_type": "stream",
     "text": [
      "Starting run logistic_regression\n",
      "=>  Model name: logistic_regression\n",
      "=>  Model params:\n",
      "{}\n",
      "=>  Model results:\n",
      "{\n",
      "    \"accuracy\": 0.981675392670157,\n",
      "    \"aucpr\": 0.9347904473621006\n",
      "}\n",
      "=>  logistic_regression version 1 has been logged to registry.\n"
     ]
    }
   ],
   "source": [
    "track_model(\"logistic_regression\", X_train, y_train, X_val, y_val)"
   ]
  },
  {
   "cell_type": "code",
   "execution_count": 8,
   "metadata": {},
   "outputs": [
    {
     "name": "stdout",
     "output_type": "stream",
     "text": [
      "Starting run logistic_regression\n",
      "=>  Model name: logistic_regression\n",
      "=>  Model params:\n",
      "{\n",
      "    \"random_state\": 42,\n",
      "    \"penalty\": \"elasticnet\",\n",
      "    \"solver\": \"saga\",\n",
      "    \"C\": 0.9140473524721335,\n",
      "    \"l1_ratio\": 0.0028218514946617293\n",
      "}\n",
      "=>  Model results:\n",
      "{\n",
      "    \"accuracy\": 0.981675392670157,\n",
      "    \"aucpr\": 0.9347904473621006\n",
      "}\n",
      "Model logistic_regression already exists in the registry.\n",
      "=>  logistic_regression version 2 has been logged to registry.\n"
     ]
    }
   ],
   "source": [
    "track_model(\"logistic_regression\", X_train, y_train, X_val, y_val, user_params=False)"
   ]
  },
  {
   "cell_type": "code",
   "execution_count": 10,
   "metadata": {},
   "outputs": [
    {
     "name": "stdout",
     "output_type": "stream",
     "text": [
      "Starting run decision_tree\n",
      "=>  Model name: decision_tree\n",
      "=>  Model params:\n",
      "{}\n",
      "=>  Model results:\n",
      "{\n",
      "    \"accuracy\": 0.962478184991274,\n",
      "    \"aucpr\": 0.861811467012522\n",
      "}\n",
      "=>  decision_tree version 1 has been logged to registry.\n"
     ]
    }
   ],
   "source": [
    "track_model(\"decision_tree\", X_train, y_train, X_val, y_val)"
   ]
  },
  {
   "cell_type": "code",
   "execution_count": 11,
   "metadata": {},
   "outputs": [
    {
     "name": "stdout",
     "output_type": "stream",
     "text": [
      "Starting run xgboost\n",
      "=>  Model name: xgboost\n",
      "=>  Model params:\n",
      "{}\n",
      "=>  Model results:\n",
      "{\n",
      "    \"accuracy\": 0.981675392670157,\n",
      "    \"aucpr\": 0.9283437179986441\n",
      "}\n",
      "=>  xgboost version 1 has been logged to registry.\n"
     ]
    }
   ],
   "source": [
    "track_model(\"xgboost\", X_train, y_train, X_val, y_val)"
   ]
  },
  {
   "cell_type": "code",
   "execution_count": 12,
   "metadata": {},
   "outputs": [
    {
     "name": "stdout",
     "output_type": "stream",
     "text": [
      "Starting run decision_tree\n",
      "=>  Model name: decision_tree\n",
      "=>  Model params:\n",
      "{}\n",
      "=>  Model results:\n",
      "{\n",
      "    \"accuracy\": 0.9554973821989529,\n",
      "    \"aucpr\": 0.8377703934107404\n",
      "}\n",
      "Model decision_tree already exists in the registry.\n",
      "=>  decision_tree version 2 has been logged to registry.\n"
     ]
    }
   ],
   "source": [
    "track_model(\"decision_tree\", X_train, y_train, X_val, y_val, user_params=False)"
   ]
  },
  {
   "cell_type": "code",
   "execution_count": 13,
   "metadata": {},
   "outputs": [
    {
     "name": "stdout",
     "output_type": "stream",
     "text": [
      "Starting run xgboost\n",
      "=>  Model name: xgboost\n",
      "=>  Model params:\n",
      "{\n",
      "    \"max_depth\": 5,\n",
      "    \"learning_rate\": 0.09806024570665134,\n",
      "    \"subsample\": 0.5856590010393802\n",
      "}\n",
      "=>  Model results:\n",
      "{\n",
      "    \"accuracy\": 0.9755671902268761,\n",
      "    \"aucpr\": 0.906409876134438\n",
      "}\n",
      "Model xgboost already exists in the registry.\n",
      "=>  xgboost version 2 has been logged to registry.\n"
     ]
    }
   ],
   "source": [
    "track_model(\"xgboost\", X_train, y_train, X_val, y_val, user_params=False)"
   ]
  },
  {
   "cell_type": "code",
   "execution_count": 14,
   "metadata": {},
   "outputs": [
    {
     "name": "stdout",
     "output_type": "stream",
     "text": [
      "[2024-02-20 16:26:29 +0530] [41273] [INFO] Starting gunicorn 21.2.0\n",
      "[2024-02-20 16:26:29 +0530] [41273] [INFO] Listening at: http://127.0.0.1:5000 (41273)\n",
      "[2024-02-20 16:26:29 +0530] [41273] [INFO] Using worker: sync\n",
      "[2024-02-20 16:26:29 +0530] [41274] [INFO] Booting worker with pid: 41274\n",
      "[2024-02-20 16:26:29 +0530] [41275] [INFO] Booting worker with pid: 41275\n",
      "[2024-02-20 16:26:29 +0530] [41276] [INFO] Booting worker with pid: 41276\n",
      "[2024-02-20 16:26:29 +0530] [41284] [INFO] Booting worker with pid: 41284\n",
      "^C\n",
      "[2024-02-20 16:29:31 +0530] [41273] [INFO] Handling signal: int\n",
      "[2024-02-20 16:29:32 +0530] [41284] [INFO] Worker exiting (pid: 41284)\n",
      "[2024-02-20 16:29:32 +0530] [41274] [INFO] Worker exiting (pid: 41274)\n",
      "[2024-02-20 16:29:32 +0530] [41275] [INFO] Worker exiting (pid: 41275)\n",
      "[2024-02-20 16:29:32 +0530] [41276] [INFO] Worker exiting (pid: 41276)\n"
     ]
    }
   ],
   "source": [
    "!mlflow ui"
   ]
  },
  {
   "cell_type": "markdown",
   "metadata": {},
   "source": [
    "Best model according to aucpr was logistic regression.\n"
   ]
  },
  {
   "cell_type": "code",
   "execution_count": 18,
   "metadata": {},
   "outputs": [
    {
     "name": "stdout",
     "output_type": "stream",
     "text": [
      "Results:\n",
      "{\n",
      "    \"accuracy\": 0.9886561954624782,\n",
      "    \"aucpr\": 0.9614294570483837\n",
      "}\n"
     ]
    }
   ],
   "source": [
    "model = LogisticRegression()\n",
    "model.fit(X_train, y_train)\n",
    "y_pred = model.predict(X_test)\n",
    "model_results = {\n",
    "    metric_name: metric(y_test, y_pred) for metric_name, metric in metrics.items()\n",
    "}\n",
    "print(f\"Results:\\n{json.dumps(model_results, indent=4)}\")"
   ]
  }
 ],
 "metadata": {
  "kernelspec": {
   "display_name": "dvc",
   "language": "python",
   "name": "python3"
  },
  "language_info": {
   "codemirror_mode": {
    "name": "ipython",
    "version": 3
   },
   "file_extension": ".py",
   "mimetype": "text/x-python",
   "name": "python",
   "nbconvert_exporter": "python",
   "pygments_lexer": "ipython3",
   "version": "3.11.7"
  }
 },
 "nbformat": 4,
 "nbformat_minor": 2
}
