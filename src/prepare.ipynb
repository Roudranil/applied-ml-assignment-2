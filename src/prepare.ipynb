{
 "cells": [
  {
   "cell_type": "markdown",
   "metadata": {},
   "source": [
    "# Setup\n"
   ]
  },
  {
   "cell_type": "code",
   "execution_count": 44,
   "metadata": {},
   "outputs": [
    {
     "name": "stdout",
     "output_type": "stream",
     "text": [
      "/data/cmi/notes/sem-4/applied-ml/assignments/assignment-2\n",
      "\u001b[34m \u001b[1mdata\u001b[0m  \u001b[34m \u001b[1mimages\u001b[0m  \u001b[32m \u001b[1mREADME.md\u001b[0m  \u001b[34m \u001b[1msrc\u001b[0m\n"
     ]
    }
   ],
   "source": [
    "%cd ..\n",
    "!eza --icons"
   ]
  },
  {
   "cell_type": "code",
   "execution_count": 2,
   "metadata": {},
   "outputs": [
    {
     "name": "stdout",
     "output_type": "stream",
     "text": [
      "Initialized DVC repository.\n",
      "\n",
      "You can now commit the changes to git.\n",
      "\n",
      "\u001b[31m+---------------------------------------------------------------------+\n",
      "\u001b[0m\u001b[31m|\u001b[0m                                                                     \u001b[31m|\u001b[0m\n",
      "\u001b[31m|\u001b[0m        DVC has enabled anonymous aggregate usage analytics.         \u001b[31m|\u001b[0m\n",
      "\u001b[31m|\u001b[0m     Read the analytics documentation (and how to opt-out) here:     \u001b[31m|\u001b[0m\n",
      "\u001b[31m|\u001b[0m             <\u001b[36mhttps://dvc.org/doc/user-guide/analytics\u001b[39m>              \u001b[31m|\u001b[0m\n",
      "\u001b[31m|\u001b[0m                                                                     \u001b[31m|\u001b[0m\n",
      "\u001b[31m+---------------------------------------------------------------------+\n",
      "\u001b[0m\n",
      "\u001b[33mWhat's next?\u001b[39m\n",
      "\u001b[33m------------\u001b[39m\n",
      "- Check out the documentation: <\u001b[36mhttps://dvc.org/doc\u001b[39m>\n",
      "- Get help and share ideas: <\u001b[36mhttps://dvc.org/chat\u001b[39m>\n",
      "- Star us on GitHub: <\u001b[36mhttps://github.com/iterative/dvc\u001b[39m>\n",
      "\u001b[0m"
     ]
    }
   ],
   "source": [
    "!dvc init -f"
   ]
  },
  {
   "cell_type": "code",
   "execution_count": 4,
   "metadata": {},
   "outputs": [
    {
     "name": "stdout",
     "output_type": "stream",
     "text": [
      "On branch main\n",
      "\n",
      "No commits yet\n",
      "\n",
      "Changes to be committed:\n",
      "  (use \"git rm --cached <file>...\" to unstage)\n",
      "\t\u001b[32mnew file:   .dvc/.gitignore\u001b[m\n",
      "\t\u001b[32mnew file:   .dvc/config\u001b[m\n",
      "\t\u001b[32mnew file:   .dvcignore\u001b[m\n",
      "\n",
      "Untracked files:\n",
      "  (use \"git add <file>...\" to include in what will be committed)\n",
      "\t\u001b[31mREADME.md\u001b[m\n",
      "\t\u001b[31mdata/\u001b[m\n",
      "\t\u001b[31mimages/\u001b[m\n",
      "\t\u001b[31msrc/\u001b[m\n",
      "\n"
     ]
    },
    {
     "name": "stdout",
     "output_type": "stream",
     "text": [
      "[main (root-commit) abf5167] 🎉 init: initialised dvc\n",
      " 3 files changed, 6 insertions(+)\n",
      " create mode 100755 .dvc/.gitignore\n",
      " create mode 100755 .dvc/config\n",
      " create mode 100755 .dvcignore\n"
     ]
    }
   ],
   "source": [
    "!git status\n",
    "!git commit -m \"🎉 init: initialised dvc\""
   ]
  },
  {
   "cell_type": "markdown",
   "metadata": {},
   "source": [
    "## Decoupling storage and compute\n",
    "\n",
    "I added google drive as remote storage for dvc.\n"
   ]
  },
  {
   "cell_type": "code",
   "execution_count": 62,
   "metadata": {},
   "outputs": [
    {
     "name": "stdout",
     "output_type": "stream",
     "text": [
      "Setting 'remotestorage' as a default remote.\n",
      "\u001b[0m"
     ]
    }
   ],
   "source": [
    "!dvc remote add -d remotestorage gdrive://1sK3RLupgUrr1YKd3A8BOjpwg5AAVqV3p -f"
   ]
  },
  {
   "cell_type": "code",
   "execution_count": 7,
   "metadata": {},
   "outputs": [
    {
     "name": "stdout",
     "output_type": "stream",
     "text": [
      "On branch main\n",
      "Changes to be committed:\n",
      "  (use \"git restore --staged <file>...\" to unstage)\n",
      "\t\u001b[32mmodified:   .dvc/config\u001b[m\n",
      "\n",
      "Untracked files:\n",
      "  (use \"git add <file>...\" to include in what will be committed)\n",
      "\t\u001b[31mREADME.md\u001b[m\n",
      "\t\u001b[31mdata/\u001b[m\n",
      "\t\u001b[31mimages/\u001b[m\n",
      "\t\u001b[31msrc/\u001b[m\n",
      "\n",
      "[main 0bd0ae0] ⚡ update: updated dvc config\n",
      " 1 file changed, 4 insertions(+)\n"
     ]
    }
   ],
   "source": [
    "!git add .dvc/config\n",
    "!git status\n",
    "!git commit -m \"⚡ update: updated dvc config\""
   ]
  },
  {
   "cell_type": "code",
   "execution_count": 45,
   "metadata": {},
   "outputs": [
    {
     "name": "stdout",
     "output_type": "stream",
     "text": [
      "/data/cmi/notes/sem-4/applied-ml/assignments/assignment-2/src\n"
     ]
    }
   ],
   "source": [
    "%cd src/"
   ]
  },
  {
   "cell_type": "markdown",
   "metadata": {},
   "source": [
    "# Imports\n"
   ]
  },
  {
   "cell_type": "code",
   "execution_count": 3,
   "metadata": {},
   "outputs": [],
   "source": [
    "import pandas as pd\n",
    "from sklearn.model_selection import train_test_split\n",
    "from tabulate import tabulate"
   ]
  },
  {
   "cell_type": "code",
   "execution_count": 2,
   "metadata": {},
   "outputs": [],
   "source": [
    "import warnings\n",
    "\n",
    "warnings.simplefilter(\"ignore\")"
   ]
  },
  {
   "cell_type": "markdown",
   "metadata": {},
   "source": [
    "# Loading the dataset and splitting it\n"
   ]
  },
  {
   "cell_type": "markdown",
   "metadata": {},
   "source": [
    "I use the following code to clean the `emails.csv` and save it as `raw_data.csv` . This code is from my assignment 1 [ `prepare.ipynb` ](https://github.com/Roudranil/applied-ml-assignment-1/blob/main/src/prepare.ipynb)\n",
    "\n",
    "```python\n",
    "def startstrip(text: str, subtext: str):\n",
    "    if text.startswith(subtext):\n",
    "        text = text[len(subtext) :]\n",
    "    return text\n",
    "\n",
    "def clean_text(text: str):\n",
    "    # convert text to lower case to make it easier to do the preprocessing\n",
    "    text = text.lower()\n",
    "\n",
    "    # remove the \"subject :\" from the beginning\n",
    "    text = startstrip(text, \"subject: \")\n",
    "    text = text.lstrip(\"subject: \")\n",
    "\n",
    "    # finding if the mail was a reply to another mail\n",
    "    is_reply = 1 if text.startswith(\"re :\") else 0\n",
    "    text = startstrip(text, \"re : \")\n",
    "\n",
    "    # cleaning the text\n",
    "    text = re.sub(r\"\\d+\", \"\", text)\n",
    "    text = text.translate(str.maketrans(\"\", \"\", string.punctuation))\n",
    "    text = re.sub(r\"[^\\x00-\\x7F]+\", \"\", text)\n",
    "\n",
    "    stopwords_list = stopwords.words(\"english\")\n",
    "    text = \" \".join(word for word in text.split() if word not in stopwords_list)\n",
    "\n",
    "    return text, is_reply\n",
    "\n",
    "cleaned_data = pd.DataFrame(\n",
    "    data[\"text\"].apply(lambda x: clean_text(x)).tolist(), columns=[\"text\", \"is_reply\"]\n",
    ")\n",
    "cleaned_data[\"spam\"] = data[\"spam\"]\n",
    "\n",
    "cleaned_data.to_csv(\"../data/raw_data.csv\", index=False)\n",
    "```\n"
   ]
  },
  {
   "cell_type": "code",
   "execution_count": 13,
   "metadata": {},
   "outputs": [],
   "source": [
    "preprocessed_raw_data = pd.read_csv(\"../data/raw_data.csv\")\n",
    "# Split the data into train/validation/test with the specified random seeds\n",
    "train, test = train_test_split(preprocessed_raw_data, test_size=0.2, random_state=42)\n",
    "train, val = train_test_split(\n",
    "    train, test_size=0.25, random_state=42\n",
    ")  # 0.25 x 0.8 = 0.2"
   ]
  },
  {
   "cell_type": "code",
   "execution_count": 15,
   "metadata": {},
   "outputs": [],
   "source": [
    "# Save the splits in the 'data' folder\n",
    "train.to_csv(\"../data/train.csv\", index=False)\n",
    "val.to_csv(\"../data/validation.csv\", index=False)\n",
    "test.to_csv(\"../data/test.csv\", index=False)"
   ]
  },
  {
   "cell_type": "markdown",
   "metadata": {},
   "source": [
    "### Tracking dataset versions with dvc\n"
   ]
  },
  {
   "cell_type": "code",
   "execution_count": 46,
   "metadata": {},
   "outputs": [
    {
     "name": "stdout",
     "output_type": "stream",
     "text": [
      "/data/cmi/notes/sem-4/applied-ml/assignments/assignment-2/data\n",
      "\u001b[32m \u001b[1mraw_data.csv\u001b[0m  \u001b[32m \u001b[1mtest.csv\u001b[0m  \u001b[32m \u001b[1mtrain.csv\u001b[0m  \u001b[32m \u001b[1mvalidation.csv\u001b[0m\n"
     ]
    }
   ],
   "source": [
    "%cd ../data\n",
    "!eza --icons"
   ]
  },
  {
   "cell_type": "code",
   "execution_count": 47,
   "metadata": {},
   "outputs": [
    {
     "name": "stdout",
     "output_type": "stream",
     "text": [
      "\u001b[?25l\u001b[32m⠋\u001b[0m Checking graph                                       core\u001b[39m>\n",
      "  0% Adding...|                       | raw_data.csv |0/4 [00:00<?,     ?file/s]\n",
      "!\u001b[A\n",
      "Collecting files and computing hashes in raw_data.csv |0.00 [00:00,     ?file/s]\u001b[A\n",
      "                                                                                \u001b[A\n",
      "!\u001b[A\n",
      "  0% Checking cache in '/data/cmi/notes/sem-4/applied-ml/assignments/assignment-\u001b[A\n",
      "                                                                                \u001b[A\n",
      "!\u001b[A\n",
      "  0%|          |Adding raw_data.csv to cache          0/1 [00:00<?,     ?file/s]\u001b[A\n",
      "                                                                                \u001b[A\n",
      "!\u001b[A\n",
      "  0%|          |Checking out /data/cmi/notes/sem-4/app0/1 [00:00<?,    ?files/s]\u001b[A\n",
      " 25% Adding...|█████▊                 | test.csv |1/4 [00:00<00:00,  7.31file/s]\u001b[A\n",
      "!\u001b[A\n",
      "Collecting files and computing hashes in test.csv     |0.00 [00:00,     ?file/s]\u001b[A\n",
      "                                                                                \u001b[A\n",
      "!\u001b[A\n",
      "  0% Checking cache in '/data/cmi/notes/sem-4/applied-ml/assignments/assignment-\u001b[A\n",
      "                                                                                \u001b[A\n",
      "!\u001b[A\n",
      "  0%|          |Adding test.csv to cache              0/1 [00:00<?,     ?file/s]\u001b[A\n",
      "                                                                                \u001b[A\n",
      "!\u001b[A\n",
      "  0%|          |Checking out /data/cmi/notes/sem-4/app0/1 [00:00<?,    ?files/s]\u001b[A\n",
      " 25% Adding...|█████▌                | train.csv |1/4 [00:00<00:00,  7.31file/s]\u001b[A\n",
      "!\u001b[A\n",
      "Collecting files and computing hashes in train.csv    |0.00 [00:00,     ?file/s]\u001b[A\n",
      "                                                                                \u001b[A\n",
      "!\u001b[A\n",
      "  0% Checking cache in '/data/cmi/notes/sem-4/applied-ml/assignments/assignment-\u001b[A\n",
      "                                                                                \u001b[A\n",
      "!\u001b[A\n",
      "  0%|          |Adding train.csv to cache             0/1 [00:00<?,     ?file/s]\u001b[A\n",
      "                                                                                \u001b[A\n",
      "!\u001b[A\n",
      "  0%|          |Checking out /data/cmi/notes/sem-4/app0/1 [00:00<?,    ?files/s]\u001b[A\n",
      " 75% Adding...|████████████▊    | validation.csv |3/4 [00:00<00:00, 13.06file/s]\u001b[A\n",
      "!\u001b[A\n",
      "Collecting files and computing hashes in validation.csv |0.00 [00:00,     ?file/\u001b[A\n",
      "                                                                                \u001b[A\n",
      "!\u001b[A\n",
      "  0% Checking cache in '/data/cmi/notes/sem-4/applied-ml/assignments/assignment-\u001b[A\n",
      "                                                                                \u001b[A\n",
      "!\u001b[A\n",
      "  0%|          |Adding validation.csv to cache        0/1 [00:00<?,     ?file/s]\u001b[A\n",
      "                                                                                \u001b[A\n",
      "!\u001b[A\n",
      "  0%|          |Checking out /data/cmi/notes/sem-4/app0/1 [00:00<?,    ?files/s]\u001b[A\n",
      "100% Adding...|████████████████████████████████████████|4/4 [00:00, 13.24file/s]\u001b[A\n",
      "\n",
      "To track the changes with git, run:\n",
      "\n",
      "\tgit add train.csv.dvc validation.csv.dvc test.csv.dvc raw_data.csv.dvc .gitignore\n",
      "\n",
      "To enable auto staging, run:\n",
      "\n",
      "\tdvc config core.autostage true\n",
      "\u001b[0m"
     ]
    }
   ],
   "source": [
    "!dvc add raw_data.csv test.csv train.csv validation.csv"
   ]
  },
  {
   "cell_type": "code",
   "execution_count": 53,
   "metadata": {},
   "outputs": [
    {
     "name": "stdout",
     "output_type": "stream",
     "text": [
      "On branch main\n",
      "Untracked files:\n",
      "  (use \"git add <file>...\" to include in what will be committed)\n",
      "\t\u001b[31m../README.md\u001b[m\n",
      "\t\u001b[31m./\u001b[m\n",
      "\t\u001b[31m../images/\u001b[m\n",
      "\t\u001b[31m../src/\u001b[m\n",
      "\n",
      "nothing added to commit but untracked files present (use \"git add\" to track)\n"
     ]
    },
    {
     "name": "stdout",
     "output_type": "stream",
     "text": [
      "[main 182e994] ⚡ update: enabled versioning data with dvc\n",
      " 5 files changed, 28 insertions(+)\n",
      " create mode 100644 data/.gitignore\n",
      " create mode 100644 data/raw_data.csv.dvc\n",
      " create mode 100644 data/test.csv.dvc\n",
      " create mode 100644 data/train.csv.dvc\n",
      " create mode 100644 data/validation.csv.dvc\n"
     ]
    }
   ],
   "source": [
    "!git status\n",
    "!git add train.csv.dvc validation.csv.dvc test.csv.dvc raw_data.csv.dvc .gitignore\n",
    "!git commit -m \"⚡ update: enabled versioning data with dvc\""
   ]
  },
  {
   "cell_type": "code",
   "execution_count": 65,
   "metadata": {},
   "outputs": [
    {
     "name": "stdout",
     "output_type": "stream",
     "text": [
      "Collecting                                            |0.00 [00:00,    ?entry/s]\n",
      "Pushing\n",
      "!\u001b[A\n",
      "  0% Checking cache in '1sK3RLupgUrr1YKd3A8BOjpwg5AAVqV3p/files/md5'| |0/? [00:0\u001b[A\n",
      "  0% Querying cache in '1sK3RLupgUrr1YKd3A8BOjpwg5AAVqV3p/files/md5'| |1/256 [00\u001b[A\n",
      "                                                                                \u001b[A\n",
      "!\u001b[A\n",
      "  0% Checking cache in '/data/cmi/notes/sem-4/applied-ml/assignments/assignment-\u001b[A\n",
      "                                                                                \u001b[A\n",
      "!\u001b[A\n",
      "  0%|          |Pushing to gdrive                     0/3 [00:00<?,     ?file/s]\u001b[A\n",
      "  0%|          |Pushing to gdrive                     0/3 [00:00<?,     ?file/s]\u001b[A\n",
      "\n",
      "!\u001b[A\u001b[A\n",
      "\n",
      "  0%|          |/data/cmi/notes/sem-4/applied-m0.00/1.09M [00:00<?,        ?B/s]\u001b[A\u001b[A\n",
      "\n",
      "  1%|          |/data/cmi/notes/sem-4/appl8.00k/1.09M [00:02<04:45,    3.96kB/s]\u001b[A\u001b[A\n",
      "\n",
      "                                                                                \u001b[A\u001b[A\n",
      " 33%|███▎      |Pushing to gdrive                 1/3 [00:04<00:08,  4.08s/file]\u001b[A\n",
      "\n",
      "!\u001b[A\u001b[A\n",
      "\n",
      "  0%|          |/data/cmi/notes/sem-4/applied-m0.00/3.15M [00:00<?,        ?B/s]\u001b[A\u001b[A\n",
      "\n",
      "\n",
      "!\u001b[A\u001b[A\u001b[A\n",
      "\n",
      "\n",
      "  0%|          |/data/cmi/notes/sem-4/applied-m0.00/1.06M [00:00<?,        ?B/s]\u001b[A\u001b[A\u001b[A\n",
      "\n",
      "  0%|          |/data/cmi/notes/sem-4/appl8.00k/3.15M [00:00<05:49,    9.44kB/s]\u001b[A\u001b[A\n",
      "\n",
      " 47%|████▋     |/data/cmi/notes/sem-4/appl1.48M/3.15M [00:00<00:00,    2.11MB/s]\u001b[A\u001b[A\n",
      "\n",
      " 60%|██████    |/data/cmi/notes/sem-4/appl1.91M/3.15M [00:01<00:00,    2.50MB/s]\u001b[A\u001b[A\n",
      "\n",
      "\n",
      "  1%|          |/data/cmi/notes/sem-4/appl8.00k/1.06M [00:02<04:46,    3.86kB/s]\u001b[A\u001b[A\u001b[A\n",
      "\n",
      "\n",
      " 71%|███████▏  |/data/cmi/notes/sem-4/appli776k/1.06M [00:02<00:00,     456kB/s]\u001b[A\u001b[A\u001b[A\n",
      "\n",
      "                                                                                \u001b[A\u001b[A\n",
      " 67%|██████▋   |Pushing to gdrive                 2/3 [00:07<00:03,  3.27s/file]\u001b[A\n",
      "\n",
      "\n",
      "                                                                                \u001b[A\u001b[A\u001b[A\n",
      "100%|██████████|Pushing to gdrive                 3/3 [00:08<00:00,  2.28s/file]\u001b[A\n",
      "Pushing                                                                         \u001b[A\n",
      "3 files pushed\n",
      "\u001b[0m"
     ]
    }
   ],
   "source": [
    "!dvc push"
   ]
  },
  {
   "cell_type": "markdown",
   "metadata": {},
   "source": [
    "### Updating splits with new random seed\n"
   ]
  },
  {
   "cell_type": "code",
   "execution_count": 42,
   "metadata": {},
   "outputs": [],
   "source": [
    "preprocessed_raw_data = pd.read_csv(\"../data/raw_data.csv\")\n",
    "# Split the data into train/validation/test with the specified random seeds\n",
    "train, test = train_test_split(preprocessed_raw_data, test_size=0.2, random_state=1024)\n",
    "train, val = train_test_split(\n",
    "    train, test_size=0.25, random_state=1024\n",
    ")  # 0.25 x 0.8 = 0.2\n",
    "# Save the splits in the 'data' folder\n",
    "train.to_csv(\"../data/train.csv\", index=False)\n",
    "val.to_csv(\"../data/validation.csv\", index=False)\n",
    "test.to_csv(\"../data/test.csv\", index=False)"
   ]
  },
  {
   "cell_type": "code",
   "execution_count": 48,
   "metadata": {},
   "outputs": [
    {
     "name": "stdout",
     "output_type": "stream",
     "text": [
      "/data/cmi/notes/sem-4/applied-ml/assignments/assignment-2/data\n",
      "\u001b[1;32mraw_data.csv\u001b[0m      \u001b[1;32mtest.csv\u001b[0m      \u001b[1;32mtrain.csv\u001b[0m      \u001b[1;32mvalidation.csv\u001b[0m\n",
      "\u001b[1;32mraw_data.csv.dvc\u001b[0m  \u001b[1;32mtest.csv.dvc\u001b[0m  \u001b[1;32mtrain.csv.dvc\u001b[0m  \u001b[1;32mvalidation.csv.dvc\u001b[0m\n"
     ]
    }
   ],
   "source": [
    "%cd ../data\n",
    "!eza"
   ]
  },
  {
   "cell_type": "code",
   "execution_count": 49,
   "metadata": {},
   "outputs": [
    {
     "name": "stdout",
     "output_type": "stream",
     "text": [
      "\u001b[?25l\u001b[32m⠋\u001b[0m Checking graph                                       core\u001b[39m>\n",
      "  0% Adding...|                          | train.csv |0/3 [00:00<?,     ?file/s]\n",
      "!\u001b[A\n",
      "Collecting files and computing hashes in train.csv    |0.00 [00:00,     ?file/s]\u001b[A\n",
      "                                                                                \u001b[A\n",
      "!\u001b[A\n",
      "  0% Checking cache in '/data/cmi/notes/sem-4/applied-ml/assignments/assignment-\u001b[A\n",
      "                                                                                \u001b[A\n",
      "!\u001b[A\n",
      "  0%|          |Adding train.csv to cache             0/1 [00:00<?,     ?file/s]\u001b[A\n",
      "                                                                                \u001b[A\n",
      "!\u001b[A\n",
      "  0%|          |Checking out /data/cmi/notes/sem-4/app0/1 [00:00<?,    ?files/s]\u001b[A\n",
      "  0% Adding...|                     | validation.csv |0/3 [00:00<?,     ?file/s]\u001b[A\n",
      "!\u001b[A\n",
      "Collecting files and computing hashes in validation.csv |0.00 [00:00,     ?file/\u001b[A\n",
      "                                                                                \u001b[A\n",
      "!\u001b[A\n",
      "  0% Checking cache in '/data/cmi/notes/sem-4/applied-ml/assignments/assignment-\u001b[A\n",
      "                                                                                \u001b[A\n",
      "!\u001b[A\n",
      "  0%|          |Adding validation.csv to cache        0/1 [00:00<?,     ?file/s]\u001b[A\n",
      "                                                                                \u001b[A\n",
      "!\u001b[A\n",
      "  0%|          |Checking out /data/cmi/notes/sem-4/app0/1 [00:00<?,    ?files/s]\u001b[A\n",
      " 67% Adding...|███████████████▎       | test.csv |2/3 [00:00<00:00, 16.62file/s]\u001b[A\n",
      "!\u001b[A\n",
      "Collecting files and computing hashes in test.csv     |0.00 [00:00,     ?file/s]\u001b[A\n",
      "                                                                                \u001b[A\n",
      "!\u001b[A\n",
      "  0% Checking cache in '/data/cmi/notes/sem-4/applied-ml/assignments/assignment-\u001b[A\n",
      "                                                                                \u001b[A\n",
      "!\u001b[A\n",
      "  0%|          |Adding test.csv to cache              0/1 [00:00<?,     ?file/s]\u001b[A\n",
      "                                                                                \u001b[A\n",
      "!\u001b[A\n",
      "  0%|          |Checking out /data/cmi/notes/sem-4/app0/1 [00:00<?,    ?files/s]\u001b[A\n",
      "100% Adding...|████████████████████████████████████████|3/3 [00:00, 17.40file/s]\u001b[A\n",
      "\n",
      "To track the changes with git, run:\n",
      "\n",
      "\tgit add test.csv.dvc train.csv.dvc validation.csv.dvc\n",
      "\n",
      "To enable auto staging, run:\n",
      "\n",
      "\tdvc config core.autostage true\n",
      "\u001b[0m"
     ]
    }
   ],
   "source": [
    "# Add the updated datasets to DVC\n",
    "!dvc add train.csv validation.csv test.csv"
   ]
  },
  {
   "cell_type": "code",
   "execution_count": 51,
   "metadata": {},
   "outputs": [
    {
     "name": "stdout",
     "output_type": "stream",
     "text": [
      "On branch main\n",
      "Your branch is up to date with 'origin/main'.\n",
      "\n",
      "Changes to be committed:\n",
      "  (use \"git restore --staged <file>...\" to unstage)\n",
      "\t\u001b[32mmodified:   test.csv.dvc\u001b[m\n",
      "\t\u001b[32mmodified:   train.csv.dvc\u001b[m\n",
      "\t\u001b[32mmodified:   validation.csv.dvc\u001b[m\n",
      "\n",
      "Changes not staged for commit:\n",
      "  (use \"git add <file>...\" to update what will be committed)\n",
      "  (use \"git restore <file>...\" to discard changes in working directory)\n",
      "\t\u001b[31mmodified:   ../src/prepare.ipynb\u001b[m\n",
      "\n",
      "Untracked files:\n",
      "  (use \"git add <file>...\" to include in what will be committed)\n",
      "\t\u001b[31m../README.md\u001b[m\n",
      "\t\u001b[31m../images/\u001b[m\n",
      "\n",
      "[main a205efc] ⚡ update: updated data splits with new random seed (1024)\n",
      " 3 files changed, 6 insertions(+), 9 deletions(-)\n"
     ]
    }
   ],
   "source": [
    "!git add test.csv.dvc train.csv.dvc validation.csv.dvc\n",
    "!git status\n",
    "!git commit -m \"⚡ update: updated data splits with new random seed (1024)\""
   ]
  },
  {
   "cell_type": "code",
   "execution_count": 52,
   "metadata": {},
   "outputs": [
    {
     "name": "stdout",
     "output_type": "stream",
     "text": [
      "Collecting                                            |4.00 [00:00,  113entry/s]\n",
      "Pushing\n",
      "!\u001b[A\n",
      "  0% Checking cache in '1sK3RLupgUrr1YKd3A8BOjpwg5AAVqV3p/files/md5'| |0/? [00:0\u001b[A\n",
      "  0% Querying cache in '1sK3RLupgUrr1YKd3A8BOjpwg5AAVqV3p/files/md5'| |1/256 [00\u001b[A\n",
      "                                                                                \u001b[A\n",
      "!\u001b[A\n",
      "  0% Checking cache in '/data/cmi/notes/sem-4/applied-ml/assignments/assignment-\u001b[A\n",
      "                                                                                \u001b[A\n",
      "!\u001b[A\n",
      "  0%|          |Pushing to gdrive                     0/3 [00:00<?,     ?file/s]\u001b[A\n",
      "  0%|          |Pushing to gdrive                     0/3 [00:00<?,     ?file/s]\u001b[A\n",
      "\n",
      "!\u001b[A\u001b[A\n",
      "\n",
      "  0%|          |/data/cmi/notes/sem-4/applied-m0.00/1.16M [00:00<?,        ?B/s]\u001b[A\u001b[A\n",
      "\n",
      "  1%|          |/data/cmi/notes/sem-4/appl8.00k/1.16M [00:03<08:02,    2.50kB/s]\u001b[A\u001b[A\n",
      "\n",
      " 15%|█▍        |/data/cmi/notes/sem-4/appli176k/1.16M [00:03<00:15,    66.7kB/s]\u001b[A\u001b[A\n",
      "\n",
      " 23%|██▎       |/data/cmi/notes/sem-4/appli272k/1.16M [00:03<00:09,     102kB/s]\u001b[A\u001b[A\n",
      "\n",
      " 32%|███▏      |/data/cmi/notes/sem-4/appli376k/1.16M [00:04<00:05,     139kB/s]\u001b[A\u001b[A\n",
      "\n",
      " 40%|███▉      |/data/cmi/notes/sem-4/appli472k/1.16M [00:04<00:04,     171kB/s]\u001b[A\u001b[A\n",
      "\n",
      " 48%|████▊     |/data/cmi/notes/sem-4/appli568k/1.16M [00:04<00:03,     201kB/s]\u001b[A\u001b[A\n",
      "\n",
      " 55%|█████▌    |/data/cmi/notes/sem-4/appli656k/1.16M [00:05<00:02,     218kB/s]\u001b[A\u001b[A\n",
      "\n",
      " 63%|██████▎   |/data/cmi/notes/sem-4/appli744k/1.16M [00:05<00:01,     239kB/s]\u001b[A\u001b[A\n",
      "\n",
      " 70%|██████▉   |/data/cmi/notes/sem-4/appli824k/1.16M [00:05<00:01,     251kB/s]\u001b[A\u001b[A\n",
      "\n",
      " 76%|███████▌  |/data/cmi/notes/sem-4/appli904k/1.16M [00:06<00:01,     258kB/s]\u001b[A\u001b[A\n",
      "\n",
      " 88%|████████▊ |/data/cmi/notes/sem-4/appl1.02M/1.16M [00:06<00:00,     265kB/s]\u001b[A\u001b[A\n",
      "\n",
      "100%|█████████▉|/data/cmi/notes/sem-4/appl1.16M/1.16M [00:07<00:00,     293kB/s]\u001b[A\u001b[A\n",
      "\n",
      "                                                                                \u001b[A\u001b[A\n",
      " 33%|███▎      |Pushing to gdrive                 1/3 [00:09<00:18,  9.20s/file]\u001b[A\n",
      "\n",
      "!\u001b[A\u001b[A\n",
      "\n",
      "  0%|          |/data/cmi/notes/sem-4/applied-ml0.00/991k [00:00<?,        ?B/s]\u001b[A\u001b[A\n",
      "\n",
      "\n",
      "!\u001b[A\u001b[A\u001b[A\n",
      "\n",
      "\n",
      "  0%|          |/data/cmi/notes/sem-4/applied-m0.00/3.18M [00:00<?,        ?B/s]\u001b[A\u001b[A\u001b[A\n",
      "\n",
      "  1%|          |/data/cmi/notes/sem-4/appli8.00k/991k [00:03<06:32,    2.57kB/s]\u001b[A\u001b[A\n",
      "\n",
      " 13%|█▎        |/data/cmi/notes/sem-4/applie128k/991k [00:03<00:18,    48.6kB/s]\u001b[A\u001b[A\n",
      "\n",
      " 23%|██▎       |/data/cmi/notes/sem-4/applie224k/991k [00:04<00:09,    83.3kB/s]\u001b[A\u001b[A\n",
      "\n",
      "\n",
      "  0%|          |/data/cmi/notes/sem-4/appl8.00k/3.18M [00:04<27:06,    2.04kB/s]\u001b[A\u001b[A\u001b[A\n",
      "\n",
      "\n",
      "  2%|▏         |/data/cmi/notes/sem-4/appl56.0k/3.18M [00:04<02:59,    18.2kB/s]\u001b[A\u001b[A\u001b[A\n",
      "\n",
      " 32%|███▏      |/data/cmi/notes/sem-4/applie320k/991k [00:04<00:06,     111kB/s]\u001b[A\u001b[A\n",
      "\n",
      "\n",
      "  4%|▍         |/data/cmi/notes/sem-4/appli136k/3.18M [00:04<01:12,    44.2kB/s]\u001b[A\u001b[A\u001b[A\n",
      "\n",
      " 41%|████      |/data/cmi/notes/sem-4/applie408k/991k [00:05<00:05,     111kB/s]\u001b[A\u001b[A\n",
      "\n",
      " 50%|█████     |/data/cmi/notes/sem-4/applie496k/991k [00:05<00:04,     125kB/s]\u001b[A\u001b[A\n",
      "\n",
      " 57%|█████▋    |/data/cmi/notes/sem-4/applie568k/991k [00:06<00:03,     133kB/s]\u001b[A\u001b[A\n",
      "\n",
      "\n",
      " 10%|█         |/data/cmi/notes/sem-4/appli328k/3.18M [00:06<00:37,    78.8kB/s]\u001b[A\u001b[A\u001b[A\n",
      "\n",
      " 65%|██████▌   |/data/cmi/notes/sem-4/applie648k/991k [00:07<00:02,     124kB/s]\u001b[A\u001b[A\n",
      "\n",
      " 74%|███████▍  |/data/cmi/notes/sem-4/applie736k/991k [00:07<00:01,     139kB/s]\u001b[A\u001b[A\n",
      "\n",
      "\n",
      " 13%|█▎        |/data/cmi/notes/sem-4/appli416k/3.18M [00:07<00:35,    81.9kB/s]\u001b[A\u001b[A\u001b[A\n",
      "\n",
      " 88%|████████▊ |/data/cmi/notes/sem-4/applie872k/991k [00:08<00:00,     146kB/s]\u001b[A\u001b[A\n",
      "\n",
      "\n",
      " 16%|█▌        |/data/cmi/notes/sem-4/appli512k/3.18M [00:08<00:31,    88.7kB/s]\u001b[A\u001b[A\u001b[A\n",
      "\n",
      "100%|██████████|/data/cmi/notes/sem-4/applie991k/991k [00:09<00:00,     159kB/s]\u001b[A\u001b[A\n",
      "\n",
      "\n",
      " 19%|█▉        |/data/cmi/notes/sem-4/appli616k/3.18M [00:09<00:24,     110kB/s]\u001b[A\u001b[A\u001b[A\n",
      "\n",
      "\n",
      " 23%|██▎       |/data/cmi/notes/sem-4/appli752k/3.18M [00:10<00:22,     115kB/s]\u001b[A\u001b[A\u001b[A\n",
      "\n",
      "\n",
      " 27%|██▋       |/data/cmi/notes/sem-4/appli872k/3.18M [00:10<00:17,     137kB/s]\u001b[A\u001b[A\u001b[A\n",
      "\n",
      "\n",
      " 33%|███▎      |/data/cmi/notes/sem-4/appl1.04M/3.18M [00:11<00:12,     179kB/s]\u001b[A\u001b[A\u001b[A\n",
      "\n",
      "                                                                                \u001b[A\u001b[A\n",
      " 67%|██████▋   |Pushing to gdrive                 2/3 [00:21<00:10, 10.92s/file]\u001b[A\n",
      "\n",
      "\n",
      " 41%|████      |/data/cmi/notes/sem-4/appl1.29M/3.18M [00:12<00:08,     221kB/s]\u001b[A\u001b[A\u001b[A\n",
      "\n",
      "\n",
      " 50%|█████     |/data/cmi/notes/sem-4/appl1.60M/3.18M [00:13<00:06,     256kB/s]\u001b[A\u001b[A\u001b[A\n",
      "\n",
      "\n",
      " 62%|██████▏   |/data/cmi/notes/sem-4/appl1.97M/3.18M [00:14<00:04,     300kB/s]\u001b[A\u001b[A\u001b[A\n",
      "\n",
      "\n",
      " 78%|███████▊  |/data/cmi/notes/sem-4/appl2.47M/3.18M [00:15<00:02,     353kB/s]\u001b[A\u001b[A\u001b[A\n",
      "\n",
      "\n",
      " 97%|█████████▋|/data/cmi/notes/sem-4/appl3.09M/3.18M [00:17<00:00,     370kB/s]\u001b[A\u001b[A\u001b[A\n",
      "\n",
      "\n",
      "                                                                                \u001b[A\u001b[A\u001b[A\n",
      "100%|██████████|Pushing to gdrive                 3/3 [00:35<00:00, 12.10s/file]\u001b[A\n",
      "Pushing                                                                         \u001b[A\n",
      "3 files pushed\n",
      "\u001b[0m"
     ]
    }
   ],
   "source": [
    "!dvc push"
   ]
  },
  {
   "cell_type": "markdown",
   "metadata": {},
   "source": [
    "# Checking out original data split and printing distribution\n"
   ]
  },
  {
   "cell_type": "code",
   "execution_count": 53,
   "metadata": {},
   "outputs": [
    {
     "name": "stdout",
     "output_type": "stream",
     "text": [
      "\u001b[33mcommit a205efc6eec4918143f4b17cd458acb03eaae28e\u001b[m\u001b[33m (\u001b[m\u001b[1;36mHEAD\u001b[m\u001b[33m -> \u001b[m\u001b[1;32mmain\u001b[m\u001b[33m)\u001b[m\n",
      "Author: Roudranil <nil0auditore78@gmail.com>\n",
      "Date:   Tue Feb 20 12:06:20 2024 +0530\n",
      "\n",
      "    ⚡ update: updated data splits with new random seed (1024)\n",
      "\n",
      "\u001b[33mcommit a1996cb1e2704e8bc4e7dcf8fe9b2cd79264834f\u001b[m\u001b[33m (\u001b[m\u001b[1;31morigin/main\u001b[m\u001b[33m)\u001b[m\n",
      "Author: Roudranil <nil0auditore78@gmail.com>\n",
      "Date:   Mon Feb 19 12:53:58 2024 +0530\n",
      "\n",
      "    🔧 code: prepare.ipynb updated to track data with dvc\n",
      "\n",
      "\u001b[33mcommit 182e994a039e751cb50352ea0256d2889eafbd2f\u001b[m\n",
      "Author: Roudranil <nil0auditore78@gmail.com>\n",
      "Date:   Mon Feb 19 12:51:42 2024 +0530\n",
      "\n",
      "    ⚡ update: enabled versioning data with dvc\n",
      "\n",
      "\u001b[33mcommit 0bd0ae00c95c795a296dd9111044a26e5d114120\u001b[m\n",
      "Author: Roudranil <nil0auditore78@gmail.com>\n",
      "Date:   Mon Feb 19 12:25:41 2024 +0530\n",
      "\n",
      "    ⚡ update: updated dvc config\n",
      "\n",
      "\u001b[33mcommit abf516717acc2c8aa10571234df543217d0414db\u001b[m\n",
      "Author: Roudranil <nil0auditore78@gmail.com>\n",
      "Date:   Mon Feb 19 11:57:30 2024 +0530\n",
      "\n",
      "    🎉 init: initialised dvc\n"
     ]
    }
   ],
   "source": [
    "!git log"
   ]
  },
  {
   "cell_type": "markdown",
   "metadata": {},
   "source": [
    "Previous version is this one\n",
    "\n",
    "```bash\n",
    "commit 182e994a039e751cb50352ea0256d2889eafbd2f\n",
    "Author: Roudranil <nil0auditore78@gmail.com>\n",
    "Date:   Mon Feb 19 12:51:42 2024 +0530\n",
    "\n",
    "    ⚡ update: enabled versioning data with dvc\n",
    "```\n"
   ]
  },
  {
   "cell_type": "code",
   "execution_count": 54,
   "metadata": {},
   "outputs": [
    {
     "name": "stdout",
     "output_type": "stream",
     "text": [
      "Updated 3 paths from 9f3aec3\n"
     ]
    }
   ],
   "source": [
    "!git checkout 182e994a039e751cb50352ea0256d2889eafbd2f train.csv.dvc validation.csv.dvc test.csv.dvc"
   ]
  },
  {
   "cell_type": "code",
   "execution_count": 56,
   "metadata": {},
   "outputs": [
    {
     "name": "stdout",
     "output_type": "stream",
     "text": [
      "Building workspace index                              |5.00 [00:00,  491entry/s]\n",
      "Comparing indexes                                    |6.00 [00:00, 2.20kentry/s]\n",
      "Applying changes                                      |3.00 [00:00,  53.0file/s]\n",
      "\u001b[33mM\u001b[0m       validation.csv\n",
      "\u001b[33mM\u001b[0m       train.csv\n",
      "\u001b[33mM\u001b[0m       raw_data.csv\n",
      "\u001b[33mM\u001b[0m       test.csv\n",
      "\u001b[0m"
     ]
    }
   ],
   "source": [
    "!dvc checkout"
   ]
  },
  {
   "cell_type": "code",
   "execution_count": 57,
   "metadata": {},
   "outputs": [],
   "source": [
    "def show_distribution(train, val, test):\n",
    "    for dataset, name in zip([train, val, test], [\"Train\", \"Validation\", \"Test\"]):\n",
    "        print(f\"==>  {name}\")\n",
    "        _ = pd.DataFrame(dataset[\"spam\"].value_counts()).reset_index()\n",
    "        _[\"percentage\"] = (_[\"count\"] / _[\"count\"].sum()).apply(\n",
    "            lambda x: f\"{x*100:.2f} %\"\n",
    "        )\n",
    "        _.loc[-1] = [f\"{'-'*6}\\nTotal\", f\"{'-'*7}\\n{_['count'].sum()}\", f\"{'-'*12}\"]\n",
    "        _.index = _.index + 1\n",
    "        print(\n",
    "            tabulate(\n",
    "                _,\n",
    "                headers=[\"Spam\", \"Count\", \"Percentage\"],\n",
    "                showindex=False,\n",
    "                numalign=\"left\",\n",
    "                stralign=\"left\",\n",
    "            )\n",
    "        )\n",
    "        print(\"\\n\")"
   ]
  },
  {
   "cell_type": "code",
   "execution_count": 58,
   "metadata": {},
   "outputs": [
    {
     "name": "stdout",
     "output_type": "stream",
     "text": [
      "/data/cmi/notes/sem-4/applied-ml/assignments/assignment-2/src\n",
      "\u001b[1;32mprepare.ipynb\u001b[0m\n",
      "==>  Train\n",
      "Spam    Count    Percentage\n",
      "------  -------  ------------\n",
      "0       2619     76.22 %\n",
      "1       817      23.78 %\n",
      "------  -------  ------------\n",
      "Total   3436\n",
      "\n",
      "\n",
      "==>  Validation\n",
      "Spam    Count    Percentage\n",
      "------  -------  ------------\n",
      "0       885      77.23 %\n",
      "1       261      22.77 %\n",
      "------  -------  ------------\n",
      "Total   1146\n",
      "\n",
      "\n",
      "==>  Test\n",
      "Spam    Count    Percentage\n",
      "------  -------  ------------\n",
      "0       856      74.69 %\n",
      "1       290      25.31 %\n",
      "------  -------  ------------\n",
      "Total   1146\n",
      "\n",
      "\n"
     ]
    }
   ],
   "source": [
    "%cd ../src\n",
    "!eza\n",
    "train = pd.read_csv(\"../data/train.csv\")\n",
    "val = pd.read_csv(\"../data/validation.csv\")\n",
    "test = pd.read_csv(\"../data/test.csv\")\n",
    "show_distribution(train, val, test)"
   ]
  },
  {
   "cell_type": "markdown",
   "metadata": {},
   "source": [
    "# Checking out updated data split and printing distribution\n"
   ]
  },
  {
   "cell_type": "markdown",
   "metadata": {},
   "source": [
    "Updated data split is this one\n",
    "\n",
    "```bash\n",
    "commit a205efc6eec4918143f4b17cd458acb03eaae28e (HEAD -> main)\n",
    "Author: Roudranil <nil0auditore78@gmail.com>\n",
    "Date:   Tue Feb 20 12:06:20 2024 +0530\n",
    "\n",
    "    ⚡ update: updated data splits with new random seed (1024)\n",
    "```\n"
   ]
  },
  {
   "cell_type": "code",
   "execution_count": 60,
   "metadata": {},
   "outputs": [
    {
     "name": "stdout",
     "output_type": "stream",
     "text": [
      "/data/cmi/notes/sem-4/applied-ml/assignments/assignment-2/data\n",
      "\u001b[1;32mraw_data.csv\u001b[0m      \u001b[1;32mtest.csv\u001b[0m      \u001b[1;32mtrain.csv\u001b[0m      \u001b[1;32mvalidation.csv\u001b[0m\n",
      "\u001b[1;32mraw_data.csv.dvc\u001b[0m  \u001b[1;32mtest.csv.dvc\u001b[0m  \u001b[1;32mtrain.csv.dvc\u001b[0m  \u001b[1;32mvalidation.csv.dvc\u001b[0m\n"
     ]
    },
    {
     "name": "stdout",
     "output_type": "stream",
     "text": [
      "Updated 3 paths from 2553738\n"
     ]
    }
   ],
   "source": [
    "%cd ../data\n",
    "!eza\n",
    "!git checkout a205efc6eec4918143f4b17cd458acb03eaae28e train.csv.dvc validation.csv.dvc test.csv.dvc"
   ]
  },
  {
   "cell_type": "code",
   "execution_count": 61,
   "metadata": {},
   "outputs": [
    {
     "name": "stdout",
     "output_type": "stream",
     "text": [
      "Building workspace index                              |5.00 [00:00,  533entry/s]\n",
      "Comparing indexes                                    |6.00 [00:00, 2.27kentry/s]\n",
      "Applying changes                                      |3.00 [00:00,  61.5file/s]\n",
      "\u001b[33mM\u001b[0m       test.csv\n",
      "\u001b[33mM\u001b[0m       validation.csv\n",
      "\u001b[33mM\u001b[0m       raw_data.csv\n",
      "\u001b[33mM\u001b[0m       train.csv\n",
      "\u001b[0m"
     ]
    }
   ],
   "source": [
    "!dvc checkout"
   ]
  },
  {
   "cell_type": "code",
   "execution_count": 62,
   "metadata": {},
   "outputs": [
    {
     "name": "stdout",
     "output_type": "stream",
     "text": [
      "/data/cmi/notes/sem-4/applied-ml/assignments/assignment-2/src\n",
      "\u001b[1;32mprepare.ipynb\u001b[0m\n",
      "==>  Train\n",
      "Spam    Count    Percentage\n",
      "------  -------  ------------\n",
      "0       2597     75.58 %\n",
      "1       839      24.42 %\n",
      "------  -------  ------------\n",
      "Total   3436\n",
      "\n",
      "\n",
      "==>  Validation\n",
      "Spam    Count    Percentage\n",
      "------  -------  ------------\n",
      "0       882      76.96 %\n",
      "1       264      23.04 %\n",
      "------  -------  ------------\n",
      "Total   1146\n",
      "\n",
      "\n",
      "==>  Test\n",
      "Spam    Count    Percentage\n",
      "------  -------  ------------\n",
      "0       881      76.88 %\n",
      "1       265      23.12 %\n",
      "------  -------  ------------\n",
      "Total   1146\n",
      "\n",
      "\n"
     ]
    }
   ],
   "source": [
    "%cd ../src\n",
    "!eza\n",
    "train = pd.read_csv(\"../data/train.csv\")\n",
    "val = pd.read_csv(\"../data/validation.csv\")\n",
    "test = pd.read_csv(\"../data/test.csv\")\n",
    "show_distribution(train, val, test)"
   ]
  },
  {
   "cell_type": "code",
   "execution_count": null,
   "metadata": {},
   "outputs": [],
   "source": []
  }
 ],
 "metadata": {
  "kernelspec": {
   "display_name": "dvc",
   "language": "python",
   "name": "python3"
  },
  "language_info": {
   "codemirror_mode": {
    "name": "ipython",
    "version": 3
   },
   "file_extension": ".py",
   "mimetype": "text/x-python",
   "name": "python",
   "nbconvert_exporter": "python",
   "pygments_lexer": "ipython3",
   "version": "3.11.7"
  }
 },
 "nbformat": 4,
 "nbformat_minor": 2
}
