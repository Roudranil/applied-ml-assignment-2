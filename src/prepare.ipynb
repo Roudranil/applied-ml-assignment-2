{
 "cells": [
  {
   "cell_type": "markdown",
   "metadata": {},
   "source": [
    "# Setup\n"
   ]
  },
  {
   "cell_type": "code",
   "execution_count": 44,
   "metadata": {},
   "outputs": [
    {
     "name": "stdout",
     "output_type": "stream",
     "text": [
      "/data/cmi/notes/sem-4/applied-ml/assignments/assignment-2\n",
      "\u001b[34m \u001b[1mdata\u001b[0m  \u001b[34m \u001b[1mimages\u001b[0m  \u001b[32m \u001b[1mREADME.md\u001b[0m  \u001b[34m \u001b[1msrc\u001b[0m\n"
     ]
    }
   ],
   "source": [
    "%cd ..\n",
    "!eza --icons"
   ]
  },
  {
   "cell_type": "code",
   "execution_count": 2,
   "metadata": {},
   "outputs": [
    {
     "name": "stdout",
     "output_type": "stream",
     "text": [
      "Initialized DVC repository.\n",
      "\n",
      "You can now commit the changes to git.\n",
      "\n",
      "\u001b[31m+---------------------------------------------------------------------+\n",
      "\u001b[0m\u001b[31m|\u001b[0m                                                                     \u001b[31m|\u001b[0m\n",
      "\u001b[31m|\u001b[0m        DVC has enabled anonymous aggregate usage analytics.         \u001b[31m|\u001b[0m\n",
      "\u001b[31m|\u001b[0m     Read the analytics documentation (and how to opt-out) here:     \u001b[31m|\u001b[0m\n",
      "\u001b[31m|\u001b[0m             <\u001b[36mhttps://dvc.org/doc/user-guide/analytics\u001b[39m>              \u001b[31m|\u001b[0m\n",
      "\u001b[31m|\u001b[0m                                                                     \u001b[31m|\u001b[0m\n",
      "\u001b[31m+---------------------------------------------------------------------+\n",
      "\u001b[0m\n",
      "\u001b[33mWhat's next?\u001b[39m\n",
      "\u001b[33m------------\u001b[39m\n",
      "- Check out the documentation: <\u001b[36mhttps://dvc.org/doc\u001b[39m>\n",
      "- Get help and share ideas: <\u001b[36mhttps://dvc.org/chat\u001b[39m>\n",
      "- Star us on GitHub: <\u001b[36mhttps://github.com/iterative/dvc\u001b[39m>\n",
      "\u001b[0m"
     ]
    }
   ],
   "source": [
    "!dvc init -f"
   ]
  },
  {
   "cell_type": "code",
   "execution_count": 4,
   "metadata": {},
   "outputs": [
    {
     "name": "stdout",
     "output_type": "stream",
     "text": [
      "On branch main\n",
      "\n",
      "No commits yet\n",
      "\n",
      "Changes to be committed:\n",
      "  (use \"git rm --cached <file>...\" to unstage)\n",
      "\t\u001b[32mnew file:   .dvc/.gitignore\u001b[m\n",
      "\t\u001b[32mnew file:   .dvc/config\u001b[m\n",
      "\t\u001b[32mnew file:   .dvcignore\u001b[m\n",
      "\n",
      "Untracked files:\n",
      "  (use \"git add <file>...\" to include in what will be committed)\n",
      "\t\u001b[31mREADME.md\u001b[m\n",
      "\t\u001b[31mdata/\u001b[m\n",
      "\t\u001b[31mimages/\u001b[m\n",
      "\t\u001b[31msrc/\u001b[m\n",
      "\n"
     ]
    },
    {
     "name": "stdout",
     "output_type": "stream",
     "text": [
      "[main (root-commit) abf5167] 🎉 init: initialised dvc\n",
      " 3 files changed, 6 insertions(+)\n",
      " create mode 100755 .dvc/.gitignore\n",
      " create mode 100755 .dvc/config\n",
      " create mode 100755 .dvcignore\n"
     ]
    }
   ],
   "source": [
    "!git status\n",
    "!git commit -m \"🎉 init: initialised dvc\""
   ]
  },
  {
   "cell_type": "markdown",
   "metadata": {},
   "source": [
    "## Decoupling storage and compute\n",
    "\n",
    "I added google drive as remote storage for dvc.\n"
   ]
  },
  {
   "cell_type": "code",
   "execution_count": 5,
   "metadata": {},
   "outputs": [
    {
     "name": "stdout",
     "output_type": "stream",
     "text": [
      "Setting 'remotestorage' as a default remote.\n",
      "\u001b[0m"
     ]
    }
   ],
   "source": [
    "!dvc remote add -d remotestorage gdrive://1sK3RLupgUrr1YKd3A8BOjpwg5AAVqV3p"
   ]
  },
  {
   "cell_type": "code",
   "execution_count": 7,
   "metadata": {},
   "outputs": [
    {
     "name": "stdout",
     "output_type": "stream",
     "text": [
      "On branch main\n",
      "Changes to be committed:\n",
      "  (use \"git restore --staged <file>...\" to unstage)\n",
      "\t\u001b[32mmodified:   .dvc/config\u001b[m\n",
      "\n",
      "Untracked files:\n",
      "  (use \"git add <file>...\" to include in what will be committed)\n",
      "\t\u001b[31mREADME.md\u001b[m\n",
      "\t\u001b[31mdata/\u001b[m\n",
      "\t\u001b[31mimages/\u001b[m\n",
      "\t\u001b[31msrc/\u001b[m\n",
      "\n",
      "[main 0bd0ae0] ⚡ update: updated dvc config\n",
      " 1 file changed, 4 insertions(+)\n"
     ]
    }
   ],
   "source": [
    "!git add .dvc/config\n",
    "!git status\n",
    "!git commit -m \"⚡ update: updated dvc config\""
   ]
  },
  {
   "cell_type": "code",
   "execution_count": 45,
   "metadata": {},
   "outputs": [
    {
     "name": "stdout",
     "output_type": "stream",
     "text": [
      "/data/cmi/notes/sem-4/applied-ml/assignments/assignment-2/src\n"
     ]
    }
   ],
   "source": [
    "%cd src/"
   ]
  },
  {
   "cell_type": "markdown",
   "metadata": {},
   "source": [
    "# Imports\n"
   ]
  },
  {
   "cell_type": "code",
   "execution_count": 12,
   "metadata": {},
   "outputs": [],
   "source": [
    "import pandas as pd\n",
    "from sklearn.model_selection import train_test_split"
   ]
  },
  {
   "cell_type": "code",
   "execution_count": 19,
   "metadata": {},
   "outputs": [],
   "source": [
    "import warnings\n",
    "\n",
    "warnings.simplefilter(\"ignore\")"
   ]
  },
  {
   "cell_type": "markdown",
   "metadata": {},
   "source": [
    "# Loading the dataset and splitting it\n"
   ]
  },
  {
   "cell_type": "markdown",
   "metadata": {},
   "source": [
    "I use the following code to clean the `emails.csv` and save it as `raw_data.csv` . This code is from my assignment 1 [ `prepare.ipynb` ](https://github.com/Roudranil/applied-ml-assignment-1/blob/main/src/prepare.ipynb)\n",
    "\n",
    "```python\n",
    "def startstrip(text: str, subtext: str):\n",
    "    if text.startswith(subtext):\n",
    "        text = text[len(subtext) :]\n",
    "    return text\n",
    "\n",
    "def clean_text(text: str):\n",
    "    # convert text to lower case to make it easier to do the preprocessing\n",
    "    text = text.lower()\n",
    "\n",
    "    # remove the \"subject :\" from the beginning\n",
    "    text = startstrip(text, \"subject: \")\n",
    "    text = text.lstrip(\"subject: \")\n",
    "\n",
    "    # finding if the mail was a reply to another mail\n",
    "    is_reply = 1 if text.startswith(\"re :\") else 0\n",
    "    text = startstrip(text, \"re : \")\n",
    "\n",
    "    # cleaning the text\n",
    "    text = re.sub(r\"\\d+\", \"\", text)\n",
    "    text = text.translate(str.maketrans(\"\", \"\", string.punctuation))\n",
    "    text = re.sub(r\"[^\\x00-\\x7F]+\", \"\", text)\n",
    "\n",
    "    stopwords_list = stopwords.words(\"english\")\n",
    "    text = \" \".join(word for word in text.split() if word not in stopwords_list)\n",
    "\n",
    "    return text, is_reply\n",
    "\n",
    "cleaned_data = pd.DataFrame(\n",
    "    data[\"text\"].apply(lambda x: clean_text(x)).tolist(), columns=[\"text\", \"is_reply\"]\n",
    ")\n",
    "cleaned_data[\"spam\"] = data[\"spam\"]\n",
    "\n",
    "cleaned_data.to_csv(\"../data/raw_data.csv\", index=False)\n",
    "```\n"
   ]
  },
  {
   "cell_type": "code",
   "execution_count": 13,
   "metadata": {},
   "outputs": [],
   "source": [
    "preprocessed_raw_data = pd.read_csv(\"../data/raw_data.csv\")\n",
    "# Split the data into train/validation/test with the specified random seeds\n",
    "train, test = train_test_split(preprocessed_raw_data, test_size=0.2, random_state=42)\n",
    "train, val = train_test_split(\n",
    "    train, test_size=0.25, random_state=42\n",
    ")  # 0.25 x 0.8 = 0.2"
   ]
  },
  {
   "cell_type": "code",
   "execution_count": 15,
   "metadata": {},
   "outputs": [],
   "source": [
    "# Save the splits in the 'data' folder\n",
    "train.to_csv(\"../data/train.csv\", index=False)\n",
    "val.to_csv(\"../data/validation.csv\", index=False)\n",
    "test.to_csv(\"../data/test.csv\", index=False)"
   ]
  },
  {
   "cell_type": "markdown",
   "metadata": {},
   "source": [
    "### Tracking dataset versions with dvc\n"
   ]
  },
  {
   "cell_type": "code",
   "execution_count": 46,
   "metadata": {},
   "outputs": [
    {
     "name": "stdout",
     "output_type": "stream",
     "text": [
      "/data/cmi/notes/sem-4/applied-ml/assignments/assignment-2/data\n",
      "\u001b[32m \u001b[1mraw_data.csv\u001b[0m  \u001b[32m \u001b[1mtest.csv\u001b[0m  \u001b[32m \u001b[1mtrain.csv\u001b[0m  \u001b[32m \u001b[1mvalidation.csv\u001b[0m\n"
     ]
    }
   ],
   "source": [
    "%cd ../data\n",
    "!eza --icons"
   ]
  },
  {
   "cell_type": "code",
   "execution_count": 47,
   "metadata": {},
   "outputs": [
    {
     "name": "stdout",
     "output_type": "stream",
     "text": [
      "\u001b[?25l\u001b[32m⠋\u001b[0m Checking graph                                       core\u001b[39m>\n",
      "  0% Adding...|                       | raw_data.csv |0/4 [00:00<?,     ?file/s]\n",
      "!\u001b[A\n",
      "Collecting files and computing hashes in raw_data.csv |0.00 [00:00,     ?file/s]\u001b[A\n",
      "                                                                                \u001b[A\n",
      "!\u001b[A\n",
      "  0% Checking cache in '/data/cmi/notes/sem-4/applied-ml/assignments/assignment-\u001b[A\n",
      "                                                                                \u001b[A\n",
      "!\u001b[A\n",
      "  0%|          |Adding raw_data.csv to cache          0/1 [00:00<?,     ?file/s]\u001b[A\n",
      "                                                                                \u001b[A\n",
      "!\u001b[A\n",
      "  0%|          |Checking out /data/cmi/notes/sem-4/app0/1 [00:00<?,    ?files/s]\u001b[A\n",
      " 25% Adding...|█████▊                 | test.csv |1/4 [00:00<00:00,  7.31file/s]\u001b[A\n",
      "!\u001b[A\n",
      "Collecting files and computing hashes in test.csv     |0.00 [00:00,     ?file/s]\u001b[A\n",
      "                                                                                \u001b[A\n",
      "!\u001b[A\n",
      "  0% Checking cache in '/data/cmi/notes/sem-4/applied-ml/assignments/assignment-\u001b[A\n",
      "                                                                                \u001b[A\n",
      "!\u001b[A\n",
      "  0%|          |Adding test.csv to cache              0/1 [00:00<?,     ?file/s]\u001b[A\n",
      "                                                                                \u001b[A\n",
      "!\u001b[A\n",
      "  0%|          |Checking out /data/cmi/notes/sem-4/app0/1 [00:00<?,    ?files/s]\u001b[A\n",
      " 25% Adding...|█████▌                | train.csv |1/4 [00:00<00:00,  7.31file/s]\u001b[A\n",
      "!\u001b[A\n",
      "Collecting files and computing hashes in train.csv    |0.00 [00:00,     ?file/s]\u001b[A\n",
      "                                                                                \u001b[A\n",
      "!\u001b[A\n",
      "  0% Checking cache in '/data/cmi/notes/sem-4/applied-ml/assignments/assignment-\u001b[A\n",
      "                                                                                \u001b[A\n",
      "!\u001b[A\n",
      "  0%|          |Adding train.csv to cache             0/1 [00:00<?,     ?file/s]\u001b[A\n",
      "                                                                                \u001b[A\n",
      "!\u001b[A\n",
      "  0%|          |Checking out /data/cmi/notes/sem-4/app0/1 [00:00<?,    ?files/s]\u001b[A\n",
      " 75% Adding...|████████████▊    | validation.csv |3/4 [00:00<00:00, 13.06file/s]\u001b[A\n",
      "!\u001b[A\n",
      "Collecting files and computing hashes in validation.csv |0.00 [00:00,     ?file/\u001b[A\n",
      "                                                                                \u001b[A\n",
      "!\u001b[A\n",
      "  0% Checking cache in '/data/cmi/notes/sem-4/applied-ml/assignments/assignment-\u001b[A\n",
      "                                                                                \u001b[A\n",
      "!\u001b[A\n",
      "  0%|          |Adding validation.csv to cache        0/1 [00:00<?,     ?file/s]\u001b[A\n",
      "                                                                                \u001b[A\n",
      "!\u001b[A\n",
      "  0%|          |Checking out /data/cmi/notes/sem-4/app0/1 [00:00<?,    ?files/s]\u001b[A\n",
      "100% Adding...|████████████████████████████████████████|4/4 [00:00, 13.24file/s]\u001b[A\n",
      "\n",
      "To track the changes with git, run:\n",
      "\n",
      "\tgit add train.csv.dvc validation.csv.dvc test.csv.dvc raw_data.csv.dvc .gitignore\n",
      "\n",
      "To enable auto staging, run:\n",
      "\n",
      "\tdvc config core.autostage true\n",
      "\u001b[0m"
     ]
    }
   ],
   "source": [
    "!dvc add raw_data.csv test.csv train.csv validation.csv"
   ]
  },
  {
   "cell_type": "code",
   "execution_count": 53,
   "metadata": {},
   "outputs": [
    {
     "name": "stdout",
     "output_type": "stream",
     "text": [
      "On branch main\n",
      "Untracked files:\n",
      "  (use \"git add <file>...\" to include in what will be committed)\n",
      "\t\u001b[31m../README.md\u001b[m\n",
      "\t\u001b[31m./\u001b[m\n",
      "\t\u001b[31m../images/\u001b[m\n",
      "\t\u001b[31m../src/\u001b[m\n",
      "\n",
      "nothing added to commit but untracked files present (use \"git add\" to track)\n"
     ]
    },
    {
     "name": "stdout",
     "output_type": "stream",
     "text": [
      "[main 182e994] ⚡ update: enabled versioning data with dvc\n",
      " 5 files changed, 28 insertions(+)\n",
      " create mode 100644 data/.gitignore\n",
      " create mode 100644 data/raw_data.csv.dvc\n",
      " create mode 100644 data/test.csv.dvc\n",
      " create mode 100644 data/train.csv.dvc\n",
      " create mode 100644 data/validation.csv.dvc\n"
     ]
    }
   ],
   "source": [
    "!git status\n",
    "!git add train.csv.dvc validation.csv.dvc test.csv.dvc raw_data.csv.dvc .gitignore\n",
    "!git commit -m \"⚡ update: enabled versioning data with dvc\""
   ]
  },
  {
   "cell_type": "code",
   "execution_count": null,
   "metadata": {},
   "outputs": [],
   "source": []
  }
 ],
 "metadata": {
  "kernelspec": {
   "display_name": "dvc",
   "language": "python",
   "name": "python3"
  },
  "language_info": {
   "codemirror_mode": {
    "name": "ipython",
    "version": 3
   },
   "file_extension": ".py",
   "mimetype": "text/x-python",
   "name": "python",
   "nbconvert_exporter": "python",
   "pygments_lexer": "ipython3",
   "version": "3.11.7"
  }
 },
 "nbformat": 4,
 "nbformat_minor": 2
}
